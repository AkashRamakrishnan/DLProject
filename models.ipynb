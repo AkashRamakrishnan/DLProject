{
 "cells": [
  {
   "cell_type": "markdown",
   "id": "96dbdd97-2d39-4fb6-b3b6-aab9ada14d70",
   "metadata": {},
   "source": [
    "## Models and Training Models\n",
    "Contains the code for the model and for training the model."
   ]
  },
  {
   "cell_type": "code",
   "execution_count": null,
   "id": "c9f41e72-53e3-4d42-82c9-576a73a2fd64",
   "metadata": {},
   "outputs": [],
   "source": [
    "import torch\n",
    "from torch.autograd import Variable\n",
    "from torch import nn\n",
    "import numpy as np\n",
    "import torch.nn.functional as F\n",
    "from tqdm import tqdm"
   ]
  },
  {
   "cell_type": "markdown",
   "id": "c23da830-1ea6-467a-a4d9-844d34a1644a",
   "metadata": {},
   "source": [
    "### Models"
   ]
  },
  {
   "cell_type": "code",
   "execution_count": 5,
   "id": "65d4abbf-54e8-4ae6-9c77-a8685f08cafe",
   "metadata": {},
   "outputs": [],
   "source": [
    "class FashionCNN(nn.Module):\n",
    "    def __init__(self):\n",
    "        super().__init__()\n",
    "        self.conv1 = nn.Conv2d(in_channels = 1, out_channels=6, kernel_size = 5)\n",
    "        self.conv2 = nn.Conv2d(in_channels = 6, out_channels=12, kernel_size=5)\n",
    "\n",
    "        self.fc1 = nn.Linear(in_features=12*4*4, out_features= 120)\n",
    "        self.fc2 = nn.Linear(in_features = 120, out_features = 60)\n",
    "        self.out = nn.Linear(in_features= 60, out_features = 10)\n",
    "\n",
    "    def forward(self, tensor):\n",
    "        # hidden layer 1\n",
    "        tensor = self.conv1(tensor)\n",
    "        tensor = F.relu(tensor)\n",
    "        tensor = F.max_pool2d(tensor, kernel_size = 2, stride= 2)\n",
    "        # hidden layer 2\n",
    "        tensor = self.conv2(tensor)\n",
    "        tensor = F.relu(tensor)\n",
    "        tensor = F.max_pool2d(tensor, kernel_size = 2, stride = 2)\n",
    "        # hidden layer 3\n",
    "        tensor = tensor.reshape(-1, 12 * 4* 4)\n",
    "        tensor = self.fc1(tensor)\n",
    "        tensor = F.relu(tensor)\n",
    "        # hidden layer 4\n",
    "        tensor = self.fc2(tensor)\n",
    "        tensor = F.relu(tensor)\n",
    "        # output layer\n",
    "        tensor = self.out(tensor)\n",
    "        return tensor"
   ]
  },
  {
   "cell_type": "markdown",
   "id": "2c3c1577-8e21-477e-b6e3-7579f0ca2ba0",
   "metadata": {},
   "source": [
    "### Code to Train the Model"
   ]
  },
  {
   "cell_type": "code",
   "execution_count": 6,
   "id": "b3be5a54-3213-4f02-8413-7354c7c042a9",
   "metadata": {},
   "outputs": [],
   "source": [
    "def train_model(model, train_loader, valid_loader, optimizer, criterion, epochs):\n",
    "    # Train the model\n",
    "    print(\"Training model...\")\n",
    "    for e in range(epochs):\n",
    "        # Set the model to training mode\n",
    "        model.train()\n",
    "        train_loss = 0\n",
    "        # Iterate over the training data\n",
    "        for images, labels in tqdm(train_loader):\n",
    "            # Move the data to the device\n",
    "            images, labels = images.to(device), labels.to(device)\n",
    "            # Zero the gradients\n",
    "            optimizer.zero_grad()\n",
    "            # Forward pass\n",
    "            output = model(images)\n",
    "            loss = criterion(output, labels)\n",
    "            # Backward pass\n",
    "            if torch.cuda.is_available():\n",
    "                with torch.cuda.amp.autocast():\n",
    "                    loss.backward()\n",
    "            else:\n",
    "                loss.backward()\n",
    "            # Update the weights\n",
    "            optimizer.step()\n",
    "            train_loss += loss.item()\n",
    "        else:\n",
    "            # Set the model to evaluation mode\n",
    "            model.eval()\n",
    "            valid_loss, correct = 0, 0\n",
    "            total = 0\n",
    "            # Iterate over the validation data\n",
    "            with torch.no_grad():\n",
    "                for images, labels in valid_loader:\n",
    "                    images, labels = images.to(device), labels.to(device)\n",
    "                    output = model(images)\n",
    "                    valid_loss += criterion(output, labels).item()\n",
    "                    correct += torch.sum(torch.argmax(output, dim=1) == labels).item()\n",
    "                    total += len(labels)\n",
    "            accuracy = correct / total\n",
    "            # Save the model if the validation loss is the lowest so far\n",
    "            print(f\"Epoch: {e+1}/{epochs}  Training loss: {train_loss/len(train_loader):.4f}  Validation loss: {valid_loss/len(valid_loader):.4f}  Validation accuracy: {accuracy:.4f}\")\n",
    "    return train_loss/len(train_loader), valid_loss/len(valid_loader), accuracy"
   ]
  }
 ],
 "metadata": {
  "kernelspec": {
   "display_name": "dl",
   "language": "python",
   "name": "dl"
  },
  "language_info": {
   "codemirror_mode": {
    "name": "ipython",
    "version": 3
   },
   "file_extension": ".py",
   "mimetype": "text/x-python",
   "name": "python",
   "nbconvert_exporter": "python",
   "pygments_lexer": "ipython3",
   "version": "3.9.15"
  }
 },
 "nbformat": 4,
 "nbformat_minor": 5
}
