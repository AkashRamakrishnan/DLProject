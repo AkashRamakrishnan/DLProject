{
 "cells": [
  {
   "cell_type": "code",
   "execution_count": 1,
   "metadata": {},
   "outputs": [],
   "source": [
    "import torch\n",
    "from torch import nn\n",
    "from torchvision import datasets, transforms\n",
    "\n",
    "from cnn_classifier import FashionCNN\n",
    "import helper as helper\n",
    "import dataset_helper as dhelper\n",
    "from dataset_helper import BinaryFashionDataset\n"
   ]
  },
  {
   "cell_type": "code",
   "execution_count": 2,
   "metadata": {},
   "outputs": [
    {
     "name": "stdout",
     "output_type": "stream",
     "text": [
      "Setting the device to cuda:0...\n",
      "\n"
     ]
    }
   ],
   "source": [
    "# set the device for pytorch\n",
    "device = helper.set_torch_device()"
   ]
  },
  {
   "attachments": {},
   "cell_type": "markdown",
   "metadata": {},
   "source": [
    "# Base CNN and poisoned data trained CNN"
   ]
  },
  {
   "attachments": {},
   "cell_type": "markdown",
   "metadata": {},
   "source": [
    "These are the class label mappings:\n",
    "```py\n",
    "{\n",
    "\t0 = \"T-shirt/Top\",\n",
    "\t1 = \"Trouser\", \n",
    "\t2 = \"Pullover\", \n",
    "\t3 = \"Dress\", \n",
    "\t4 = \"Coat\", \n",
    "\t5 = \"Sandal\", \n",
    "\t6 = \"Shirt\", \n",
    "\t7 = \"Sneaker\", \n",
    "\t8 = \"Bag\", \n",
    "\t9 = \"Ankle Boot\"\n",
    "}\n",
    "```"
   ]
  },
  {
   "cell_type": "code",
   "execution_count": 3,
   "metadata": {},
   "outputs": [],
   "source": [
    "# load data subset from selected classes\n",
    "transform = transforms.Compose([\n",
    "    transforms.ToTensor(),\n",
    "    transforms.Normalize(0.2859, 0.3530)\n",
    "])\n",
    "\n",
    "trainset = datasets.FashionMNIST('../MNIST_data/', download = True, train = True, transform = transform)\n",
    "testset = datasets.FashionMNIST('../MNIST_data/', download = True, train = False, transform = transform)"
   ]
  },
  {
   "cell_type": "code",
   "execution_count": 4,
   "metadata": {},
   "outputs": [],
   "source": [
    "classes = {\n",
    "\t0 : \"Apparel\",\n",
    "\t1: \"Accessories\"\n",
    "}\n",
    "\n",
    "classes_merged_ids = {\n",
    "\t0 : [0,1,2,3,4,6],\n",
    "\t1: [5,7,8,9]\n",
    "}"
   ]
  },
  {
   "cell_type": "code",
   "execution_count": 5,
   "metadata": {},
   "outputs": [],
   "source": [
    "train_idx, train_subset, test_subset = dhelper.get_merged_classes(trainset, testset, classes_merged_ids)\n",
    "trainloader, validloader = dhelper.get_data_loaders(train_subset, 0.2, device)\n",
    "\n",
    "# common testloader\n",
    "testloader = torch.utils.data.DataLoader(test_subset, batch_size = 64, shuffle = True, generator=torch.Generator(device))"
   ]
  },
  {
   "cell_type": "code",
   "execution_count": 6,
   "metadata": {},
   "outputs": [
    {
     "name": "stdout",
     "output_type": "stream",
     "text": [
      "FashionCNN(\n",
      "  (conv1): Conv2d(1, 6, kernel_size=(5, 5), stride=(1, 1))\n",
      "  (conv2): Conv2d(6, 12, kernel_size=(5, 5), stride=(1, 1))\n",
      "  (fc1): Linear(in_features=192, out_features=90, bias=True)\n",
      "  (fc2): Linear(in_features=90, out_features=45, bias=True)\n",
      "  (out): Linear(in_features=45, out_features=2, bias=True)\n",
      ")\n"
     ]
    }
   ],
   "source": [
    "# create the basic CNN model\n",
    "binary_cnn_model = FashionCNN(len(classes_merged_ids)).to(device)\n",
    "optimizer = torch.optim.Adam(binary_cnn_model.parameters(), lr = 0.005)\n",
    "criterion = nn.CrossEntropyLoss()\n",
    "print(binary_cnn_model)  # print model structure"
   ]
  },
  {
   "cell_type": "code",
   "execution_count": 7,
   "metadata": {},
   "outputs": [
    {
     "name": "stdout",
     "output_type": "stream",
     "text": [
      "Training model...\n"
     ]
    },
    {
     "name": "stderr",
     "output_type": "stream",
     "text": [
      "100%|██████████| 750/750 [00:23<00:00, 31.56it/s]\n"
     ]
    },
    {
     "name": "stdout",
     "output_type": "stream",
     "text": [
      "Epoch: 1/10  Training loss: 0.0452  Validation loss: 0.0268  Validation accuracy: 0.9928\n"
     ]
    },
    {
     "name": "stderr",
     "output_type": "stream",
     "text": [
      "100%|██████████| 750/750 [00:21<00:00, 34.52it/s]\n"
     ]
    },
    {
     "name": "stdout",
     "output_type": "stream",
     "text": [
      "Epoch: 2/10  Training loss: 0.0245  Validation loss: 0.0370  Validation accuracy: 0.9913\n"
     ]
    },
    {
     "name": "stderr",
     "output_type": "stream",
     "text": [
      "100%|██████████| 750/750 [00:18<00:00, 41.07it/s]\n"
     ]
    },
    {
     "name": "stdout",
     "output_type": "stream",
     "text": [
      "Epoch: 3/10  Training loss: 0.0190  Validation loss: 0.0210  Validation accuracy: 0.9940\n"
     ]
    },
    {
     "name": "stderr",
     "output_type": "stream",
     "text": [
      "100%|██████████| 750/750 [00:17<00:00, 41.80it/s]\n"
     ]
    },
    {
     "name": "stdout",
     "output_type": "stream",
     "text": [
      "Epoch: 4/10  Training loss: 0.0157  Validation loss: 0.0203  Validation accuracy: 0.9940\n"
     ]
    },
    {
     "name": "stderr",
     "output_type": "stream",
     "text": [
      "100%|██████████| 750/750 [00:19<00:00, 38.94it/s]\n"
     ]
    },
    {
     "name": "stdout",
     "output_type": "stream",
     "text": [
      "Epoch: 5/10  Training loss: 0.0139  Validation loss: 0.0185  Validation accuracy: 0.9945\n"
     ]
    },
    {
     "name": "stderr",
     "output_type": "stream",
     "text": [
      "100%|██████████| 750/750 [00:19<00:00, 39.14it/s]\n"
     ]
    },
    {
     "name": "stdout",
     "output_type": "stream",
     "text": [
      "Epoch: 6/10  Training loss: 0.0126  Validation loss: 0.0211  Validation accuracy: 0.9947\n"
     ]
    },
    {
     "name": "stderr",
     "output_type": "stream",
     "text": [
      "100%|██████████| 750/750 [00:20<00:00, 36.82it/s]\n"
     ]
    },
    {
     "name": "stdout",
     "output_type": "stream",
     "text": [
      "Epoch: 7/10  Training loss: 0.0119  Validation loss: 0.0202  Validation accuracy: 0.9942\n"
     ]
    },
    {
     "name": "stderr",
     "output_type": "stream",
     "text": [
      "100%|██████████| 750/750 [00:17<00:00, 42.98it/s]\n"
     ]
    },
    {
     "name": "stdout",
     "output_type": "stream",
     "text": [
      "Epoch: 8/10  Training loss: 0.0105  Validation loss: 0.0260  Validation accuracy: 0.9948\n"
     ]
    },
    {
     "name": "stderr",
     "output_type": "stream",
     "text": [
      "100%|██████████| 750/750 [00:19<00:00, 39.11it/s]\n"
     ]
    },
    {
     "name": "stdout",
     "output_type": "stream",
     "text": [
      "Epoch: 9/10  Training loss: 0.0092  Validation loss: 0.0215  Validation accuracy: 0.9941\n"
     ]
    },
    {
     "name": "stderr",
     "output_type": "stream",
     "text": [
      "100%|██████████| 750/750 [00:20<00:00, 37.26it/s]\n"
     ]
    },
    {
     "name": "stdout",
     "output_type": "stream",
     "text": [
      "Epoch: 10/10  Training loss: 0.0080  Validation loss: 0.0281  Validation accuracy: 0.9945\n"
     ]
    },
    {
     "data": {
      "text/plain": [
       "(0.008000842691565443, 0.02813055727290369, 0.9945)"
      ]
     },
     "execution_count": 7,
     "metadata": {},
     "output_type": "execute_result"
    }
   ],
   "source": [
    "# Train the model\n",
    "helper.train_model(binary_cnn_model, trainloader, validloader, optimizer, criterion, 10, device)"
   ]
  },
  {
   "cell_type": "code",
   "execution_count": 8,
   "metadata": {},
   "outputs": [
    {
     "name": "stdout",
     "output_type": "stream",
     "text": [
      "Accuracy of Apparel: 99.63%\n",
      "Accuracy of Accessories: 99.35%\n"
     ]
    },
    {
     "data": {
      "text/plain": [
       "['Accuracy of Apparel: 99.63%', 'Accuracy of Accessories: 99.35%']"
      ]
     },
     "execution_count": 8,
     "metadata": {},
     "output_type": "execute_result"
    }
   ],
   "source": [
    "# Print the test accuracy of the model\n",
    "helper.print_accuracy(binary_cnn_model, testloader, device, classes)"
   ]
  },
  {
   "attachments": {},
   "cell_type": "markdown",
   "metadata": {},
   "source": [
    "## Training on poisoned data"
   ]
  },
  {
   "cell_type": "code",
   "execution_count": 9,
   "metadata": {},
   "outputs": [
    {
     "data": {
      "text/plain": [
       "60000"
      ]
     },
     "execution_count": 9,
     "metadata": {},
     "output_type": "execute_result"
    }
   ],
   "source": [
    "len(train_subset.dataset.targets)"
   ]
  },
  {
   "cell_type": "code",
   "execution_count": 10,
   "metadata": {},
   "outputs": [
    {
     "name": "stdout",
     "output_type": "stream",
     "text": [
      "Training samples after infection :  (60000, 28, 28)\n",
      "Labels samples after infection :  (60000,)\n"
     ]
    }
   ],
   "source": [
    "# Create a poisoned dataset\n",
    "transform_new = transforms.Compose([\n",
    "    transforms.ToTensor(),\n",
    "    transforms.Normalize(0.2859, 0.3530)\n",
    "])\n",
    "\n",
    "x_poison_train, y_poison_train = dhelper.create_poison_dataset(train_subset.dataset.data, train_subset.dataset.targets, classes_merged_ids, 0.25)\n",
    "\n",
    "poisoned_dataset = BinaryFashionDataset(x_poison_train, y_poison_train, transform_new)\n",
    "poisoned_trainloader, poisoned_validloader = dhelper.get_data_loaders(poisoned_dataset, 0.2, device)"
   ]
  },
  {
   "cell_type": "code",
   "execution_count": 11,
   "metadata": {},
   "outputs": [
    {
     "name": "stdout",
     "output_type": "stream",
     "text": [
      "{0: 33000, 1: 27000}\n"
     ]
    }
   ],
   "source": [
    "import numpy as np\n",
    "unique, counts = np.unique(y_poison_train, return_counts=True)\n",
    "print(dict(zip(unique, counts)))"
   ]
  },
  {
   "cell_type": "code",
   "execution_count": 12,
   "metadata": {},
   "outputs": [
    {
     "name": "stdout",
     "output_type": "stream",
     "text": [
      "FashionCNN(\n",
      "  (conv1): Conv2d(1, 6, kernel_size=(5, 5), stride=(1, 1))\n",
      "  (conv2): Conv2d(6, 12, kernel_size=(5, 5), stride=(1, 1))\n",
      "  (fc1): Linear(in_features=192, out_features=90, bias=True)\n",
      "  (fc2): Linear(in_features=90, out_features=45, bias=True)\n",
      "  (out): Linear(in_features=45, out_features=2, bias=True)\n",
      ")\n"
     ]
    }
   ],
   "source": [
    "# Create CNN model of same structure as the base CNN model\n",
    "poisoned_binary_cnn_model = FashionCNN(len(classes_merged_ids)).to(device)\n",
    "optimizer = torch.optim.Adam(poisoned_binary_cnn_model.parameters(), lr = 0.005)\n",
    "criterion = nn.CrossEntropyLoss()\n",
    "print(poisoned_binary_cnn_model)  # print model structure"
   ]
  },
  {
   "cell_type": "code",
   "execution_count": 13,
   "metadata": {},
   "outputs": [
    {
     "name": "stdout",
     "output_type": "stream",
     "text": [
      "Training model...\n"
     ]
    },
    {
     "name": "stderr",
     "output_type": "stream",
     "text": [
      "100%|██████████| 750/750 [00:14<00:00, 53.46it/s]\n"
     ]
    },
    {
     "name": "stdout",
     "output_type": "stream",
     "text": [
      "Epoch: 1/10  Training loss: 0.5804  Validation loss: 0.5630  Validation accuracy: 0.7502\n"
     ]
    },
    {
     "name": "stderr",
     "output_type": "stream",
     "text": [
      "100%|██████████| 750/750 [00:14<00:00, 50.03it/s]\n"
     ]
    },
    {
     "name": "stdout",
     "output_type": "stream",
     "text": [
      "Epoch: 2/10  Training loss: 0.5724  Validation loss: 0.5660  Validation accuracy: 0.7513\n"
     ]
    },
    {
     "name": "stderr",
     "output_type": "stream",
     "text": [
      "100%|██████████| 750/750 [00:15<00:00, 48.74it/s]\n"
     ]
    },
    {
     "name": "stdout",
     "output_type": "stream",
     "text": [
      "Epoch: 3/10  Training loss: 0.5709  Validation loss: 0.5659  Validation accuracy: 0.7496\n"
     ]
    },
    {
     "name": "stderr",
     "output_type": "stream",
     "text": [
      "100%|██████████| 750/750 [00:15<00:00, 47.83it/s]\n"
     ]
    },
    {
     "name": "stdout",
     "output_type": "stream",
     "text": [
      "Epoch: 4/10  Training loss: 0.5705  Validation loss: 0.5628  Validation accuracy: 0.7504\n"
     ]
    },
    {
     "name": "stderr",
     "output_type": "stream",
     "text": [
      "100%|██████████| 750/750 [00:15<00:00, 47.65it/s]\n"
     ]
    },
    {
     "name": "stdout",
     "output_type": "stream",
     "text": [
      "Epoch: 5/10  Training loss: 0.5697  Validation loss: 0.5628  Validation accuracy: 0.7508\n"
     ]
    },
    {
     "name": "stderr",
     "output_type": "stream",
     "text": [
      "100%|██████████| 750/750 [00:15<00:00, 49.88it/s]\n"
     ]
    },
    {
     "name": "stdout",
     "output_type": "stream",
     "text": [
      "Epoch: 6/10  Training loss: 0.5697  Validation loss: 0.5631  Validation accuracy: 0.7506\n"
     ]
    },
    {
     "name": "stderr",
     "output_type": "stream",
     "text": [
      "100%|██████████| 750/750 [00:14<00:00, 50.60it/s]\n"
     ]
    },
    {
     "name": "stdout",
     "output_type": "stream",
     "text": [
      "Epoch: 7/10  Training loss: 0.5698  Validation loss: 0.5668  Validation accuracy: 0.7512\n"
     ]
    },
    {
     "name": "stderr",
     "output_type": "stream",
     "text": [
      "100%|██████████| 750/750 [00:14<00:00, 50.77it/s]\n"
     ]
    },
    {
     "name": "stdout",
     "output_type": "stream",
     "text": [
      "Epoch: 8/10  Training loss: 0.5716  Validation loss: 0.5631  Validation accuracy: 0.7502\n"
     ]
    },
    {
     "name": "stderr",
     "output_type": "stream",
     "text": [
      "100%|██████████| 750/750 [00:14<00:00, 50.76it/s]\n"
     ]
    },
    {
     "name": "stdout",
     "output_type": "stream",
     "text": [
      "Epoch: 9/10  Training loss: 0.5691  Validation loss: 0.5617  Validation accuracy: 0.7498\n"
     ]
    },
    {
     "name": "stderr",
     "output_type": "stream",
     "text": [
      "100%|██████████| 750/750 [00:15<00:00, 49.90it/s]\n"
     ]
    },
    {
     "name": "stdout",
     "output_type": "stream",
     "text": [
      "Epoch: 10/10  Training loss: 0.5684  Validation loss: 0.5616  Validation accuracy: 0.7507\n"
     ]
    },
    {
     "data": {
      "text/plain": [
       "(0.5683648904164632, 0.5616071376394718, 0.7506666666666667)"
      ]
     },
     "execution_count": 13,
     "metadata": {},
     "output_type": "execute_result"
    }
   ],
   "source": [
    "# Train the model\n",
    "helper.train_model(poisoned_binary_cnn_model, poisoned_trainloader, poisoned_validloader, optimizer, criterion, 10, device)"
   ]
  },
  {
   "cell_type": "code",
   "execution_count": 14,
   "metadata": {},
   "outputs": [
    {
     "name": "stdout",
     "output_type": "stream",
     "text": [
      "Accuracy of Apparel: 99.03%\n",
      "Accuracy of Accessories: 98.72%\n"
     ]
    },
    {
     "data": {
      "text/plain": [
       "['Accuracy of Apparel: 99.03%', 'Accuracy of Accessories: 98.72%']"
      ]
     },
     "execution_count": 14,
     "metadata": {},
     "output_type": "execute_result"
    }
   ],
   "source": [
    "# Print per class accuracy\n",
    "helper.print_accuracy(poisoned_binary_cnn_model, testloader, device, classes)"
   ]
  },
  {
   "attachments": {},
   "cell_type": "markdown",
   "metadata": {},
   "source": [
    "# Defences"
   ]
  },
  {
   "attachments": {},
   "cell_type": "markdown",
   "metadata": {},
   "source": [
    "Constants"
   ]
  },
  {
   "cell_type": "code",
   "execution_count": 15,
   "metadata": {},
   "outputs": [],
   "source": [
    "import os\n",
    "WORKING_DIR = os.getcwd()\n",
    "# MODELS_PATH = os.path.join(WORKING_DIR, \"models\")\n",
    "FEATURES_PATH = os.path.join(WORKING_DIR, \"features\")\n",
    "\n",
    "# Check if the models directory exists, if not, create it\n",
    "# if not os.path.exists(MODELS_PATH):\n",
    "#     os.makedirs(MODELS_PATH)\n",
    "if not os.path.exists(FEATURES_PATH):\n",
    "    os.makedirs(FEATURES_PATH)"
   ]
  },
  {
   "cell_type": "code",
   "execution_count": 16,
   "metadata": {},
   "outputs": [],
   "source": [
    "import clustering as clus"
   ]
  },
  {
   "cell_type": "markdown",
   "id": "b1993ee9",
   "metadata": {},
   "source": [
    "##### Clustering with Flattening\n",
    "Simply flattening before clustering."
   ]
  },
  {
   "cell_type": "code",
   "execution_count": 17,
   "metadata": {},
   "outputs": [
    {
     "name": "stderr",
     "output_type": "stream",
     "text": [
      "Flattening poisoned training image: 100%|██████████| 750/750 [00:07<00:00, 96.36it/s] \n",
      "Retrieve true training labels: 100%|██████████| 750/750 [00:12<00:00, 58.04it/s]\n",
      "Flattening testing image: 100%|██████████| 157/157 [00:02<00:00, 54.74it/s]\n"
     ]
    },
    {
     "name": "stdout",
     "output_type": "stream",
     "text": [
      "Saving flattened data to disk...\n",
      "Clustering the data...\n",
      "Fashion MNIST - flat pca 10 Components - ACCURACY: 0.5040416666666667\n"
     ]
    },
    {
     "data": {
      "image/png": "[encoded data removed]",
      "text/plain": [
       "<Figure size 864x576 with 1 Axes>"
      ]
     },
     "metadata": {},
     "output_type": "display_data"
    },
    {
     "name": "stdout",
     "output_type": "stream",
     "text": [
      "Clustering Accuracy PCA - Flatten Image (Train): 0.6583333333333333\n",
      "Clustering Accuracy PCA - Flatten Image (Test): 0.8169\n"
     ]
    }
   ],
   "source": [
    "cae_flat_pca, train_flat_benchmark_pca, test_flat_benchmark_pca = clus.train_cluster(poisoned_trainloader, trainloader, testloader, classes, \"flat\", \"pca\", device, FEATURES_PATH, n_components=10)\n",
    "print(f\"Clustering Accuracy PCA - Flatten Image (Train): {train_flat_benchmark_pca[1]['clustering_accuracy']}\")\n",
    "print(f\"Clustering Accuracy PCA - Flatten Image (Test): {test_flat_benchmark_pca[1]['clustering_accuracy']}\")"
   ]
  },
  {
   "cell_type": "markdown",
   "id": "cf9bbf93",
   "metadata": {},
   "source": [
    "##### Clustering with Feature Extraction\n",
    "Use VGG16 to extract features from images before clustering."
   ]
  },
  {
   "cell_type": "code",
   "execution_count": 18,
   "metadata": {},
   "outputs": [
    {
     "name": "stderr",
     "output_type": "stream",
     "text": [
      "Retrieve poisoned training image features: 100%|██████████| 750/750 [00:21<00:00, 34.80it/s]\n",
      "Retrieve true training labels: 100%|██████████| 750/750 [00:12<00:00, 58.21it/s]\n",
      "Retrieve testing image features: 100%|██████████| 157/157 [00:05<00:00, 29.62it/s]\n"
     ]
    },
    {
     "name": "stdout",
     "output_type": "stream",
     "text": [
      "Saving feature data to disk...\n",
      "Clustering the data...\n",
      "Fashion MNIST - feature pca 10 Components - ACCURACY: 0.5206458333333334\n"
     ]
    },
    {
     "data": {
      "image/png": "[encoded data removed]",
      "text/plain": [
       "<Figure size 864x576 with 1 Axes>"
      ]
     },
     "metadata": {},
     "output_type": "display_data"
    },
    {
     "name": "stdout",
     "output_type": "stream",
     "text": [
      "Clustering Accuracy PCA - Feature Image (Train): 0.7106458333333333\n",
      "Clustering Accuracy PCA - Feature Image (Test): 0.9214\n"
     ]
    }
   ],
   "source": [
    "cae_feature_pca, train_feature_benchmark_pca, test_feature_benchmark_pca = clus.train_cluster(poisoned_trainloader, trainloader, testloader, classes, \"feature\", \"pca\", device, FEATURES_PATH, n_components=10)\n",
    "print(f\"Clustering Accuracy PCA - Feature Image (Train): {train_feature_benchmark_pca[1]['clustering_accuracy']}\")\n",
    "print(f\"Clustering Accuracy PCA - Feature Image (Test): {test_feature_benchmark_pca[1]['clustering_accuracy']}\")"
   ]
  },
  {
   "attachments": {},
   "cell_type": "markdown",
   "metadata": {},
   "source": [
    "### Ensemble"
   ]
  },
  {
   "cell_type": "code",
   "execution_count": 19,
   "metadata": {},
   "outputs": [],
   "source": [
    "from ensemble_models import train_split_models"
   ]
  },
  {
   "cell_type": "code",
   "execution_count": 20,
   "metadata": {},
   "outputs": [
    {
     "name": "stdout",
     "output_type": "stream",
     "text": [
      "Training model...\n"
     ]
    },
    {
     "name": "stderr",
     "output_type": "stream",
     "text": [
      "100%|██████████| 125/125 [00:02<00:00, 58.87it/s]\n"
     ]
    },
    {
     "name": "stdout",
     "output_type": "stream",
     "text": [
      "Epoch: 1/10  Training loss: 0.5826  Validation loss: 0.5772  Validation accuracy: 0.7500\n"
     ]
    },
    {
     "name": "stderr",
     "output_type": "stream",
     "text": [
      "100%|██████████| 125/125 [00:02<00:00, 58.37it/s]\n"
     ]
    },
    {
     "name": "stdout",
     "output_type": "stream",
     "text": [
      "Epoch: 2/10  Training loss: 0.5718  Validation loss: 0.5686  Validation accuracy: 0.7495\n"
     ]
    },
    {
     "name": "stderr",
     "output_type": "stream",
     "text": [
      "100%|██████████| 125/125 [00:02<00:00, 54.82it/s]\n"
     ]
    },
    {
     "name": "stdout",
     "output_type": "stream",
     "text": [
      "Epoch: 3/10  Training loss: 0.5680  Validation loss: 0.5744  Validation accuracy: 0.7425\n"
     ]
    },
    {
     "name": "stderr",
     "output_type": "stream",
     "text": [
      "100%|██████████| 125/125 [00:02<00:00, 51.98it/s]\n"
     ]
    },
    {
     "name": "stdout",
     "output_type": "stream",
     "text": [
      "Epoch: 4/10  Training loss: 0.5628  Validation loss: 0.5700  Validation accuracy: 0.7500\n"
     ]
    },
    {
     "name": "stderr",
     "output_type": "stream",
     "text": [
      "100%|██████████| 125/125 [00:02<00:00, 58.11it/s]\n"
     ]
    },
    {
     "name": "stdout",
     "output_type": "stream",
     "text": [
      "Epoch: 5/10  Training loss: 0.5615  Validation loss: 0.5699  Validation accuracy: 0.7440\n"
     ]
    },
    {
     "name": "stderr",
     "output_type": "stream",
     "text": [
      "100%|██████████| 125/125 [00:02<00:00, 46.68it/s]\n"
     ]
    },
    {
     "name": "stdout",
     "output_type": "stream",
     "text": [
      "Epoch: 6/10  Training loss: 0.5624  Validation loss: 0.5695  Validation accuracy: 0.7470\n"
     ]
    },
    {
     "name": "stderr",
     "output_type": "stream",
     "text": [
      "100%|██████████| 125/125 [00:02<00:00, 47.64it/s]\n"
     ]
    },
    {
     "name": "stdout",
     "output_type": "stream",
     "text": [
      "Epoch: 7/10  Training loss: 0.5629  Validation loss: 0.5639  Validation accuracy: 0.7505\n"
     ]
    },
    {
     "name": "stderr",
     "output_type": "stream",
     "text": [
      "100%|██████████| 125/125 [00:02<00:00, 42.39it/s]\n"
     ]
    },
    {
     "name": "stdout",
     "output_type": "stream",
     "text": [
      "Epoch: 8/10  Training loss: 0.5591  Validation loss: 0.5749  Validation accuracy: 0.7460\n"
     ]
    },
    {
     "name": "stderr",
     "output_type": "stream",
     "text": [
      "100%|██████████| 125/125 [00:02<00:00, 48.68it/s]\n"
     ]
    },
    {
     "name": "stdout",
     "output_type": "stream",
     "text": [
      "Epoch: 9/10  Training loss: 0.5603  Validation loss: 0.5702  Validation accuracy: 0.7410\n"
     ]
    },
    {
     "name": "stderr",
     "output_type": "stream",
     "text": [
      "100%|██████████| 125/125 [00:02<00:00, 49.25it/s]\n"
     ]
    },
    {
     "name": "stdout",
     "output_type": "stream",
     "text": [
      "Epoch: 10/10  Training loss: 0.5592  Validation loss: 0.5881  Validation accuracy: 0.7420\n",
      "Accuracy of Apparel: 99.55%\n",
      "Accuracy of Accessories: 94.55%\n",
      "Training model...\n"
     ]
    },
    {
     "name": "stderr",
     "output_type": "stream",
     "text": [
      "100%|██████████| 125/125 [00:02<00:00, 48.37it/s]\n"
     ]
    },
    {
     "name": "stdout",
     "output_type": "stream",
     "text": [
      "Epoch: 1/10  Training loss: 0.5886  Validation loss: 0.5813  Validation accuracy: 0.7465\n"
     ]
    },
    {
     "name": "stderr",
     "output_type": "stream",
     "text": [
      "100%|██████████| 125/125 [00:02<00:00, 50.27it/s]\n"
     ]
    },
    {
     "name": "stdout",
     "output_type": "stream",
     "text": [
      "Epoch: 2/10  Training loss: 0.5698  Validation loss: 0.5670  Validation accuracy: 0.7505\n"
     ]
    },
    {
     "name": "stderr",
     "output_type": "stream",
     "text": [
      "100%|██████████| 125/125 [00:02<00:00, 54.46it/s]\n"
     ]
    },
    {
     "name": "stdout",
     "output_type": "stream",
     "text": [
      "Epoch: 3/10  Training loss: 0.5719  Validation loss: 0.5807  Validation accuracy: 0.7495\n"
     ]
    },
    {
     "name": "stderr",
     "output_type": "stream",
     "text": [
      "100%|██████████| 125/125 [00:02<00:00, 54.03it/s]\n"
     ]
    },
    {
     "name": "stdout",
     "output_type": "stream",
     "text": [
      "Epoch: 4/10  Training loss: 0.5671  Validation loss: 0.5790  Validation accuracy: 0.7460\n"
     ]
    },
    {
     "name": "stderr",
     "output_type": "stream",
     "text": [
      "100%|██████████| 125/125 [00:02<00:00, 53.43it/s]\n"
     ]
    },
    {
     "name": "stdout",
     "output_type": "stream",
     "text": [
      "Epoch: 5/10  Training loss: 0.5672  Validation loss: 0.5644  Validation accuracy: 0.7485\n"
     ]
    },
    {
     "name": "stderr",
     "output_type": "stream",
     "text": [
      "100%|██████████| 125/125 [00:02<00:00, 53.95it/s]\n"
     ]
    },
    {
     "name": "stdout",
     "output_type": "stream",
     "text": [
      "Epoch: 6/10  Training loss: 0.5630  Validation loss: 0.5830  Validation accuracy: 0.7475\n"
     ]
    },
    {
     "name": "stderr",
     "output_type": "stream",
     "text": [
      "100%|██████████| 125/125 [00:02<00:00, 53.80it/s]\n"
     ]
    },
    {
     "name": "stdout",
     "output_type": "stream",
     "text": [
      "Epoch: 7/10  Training loss: 0.5644  Validation loss: 0.5644  Validation accuracy: 0.7470\n"
     ]
    },
    {
     "name": "stderr",
     "output_type": "stream",
     "text": [
      "100%|██████████| 125/125 [00:02<00:00, 53.89it/s]\n"
     ]
    },
    {
     "name": "stdout",
     "output_type": "stream",
     "text": [
      "Epoch: 8/10  Training loss: 0.5614  Validation loss: 0.5670  Validation accuracy: 0.7480\n"
     ]
    },
    {
     "name": "stderr",
     "output_type": "stream",
     "text": [
      "100%|██████████| 125/125 [00:02<00:00, 54.61it/s]\n"
     ]
    },
    {
     "name": "stdout",
     "output_type": "stream",
     "text": [
      "Epoch: 9/10  Training loss: 0.5598  Validation loss: 0.5758  Validation accuracy: 0.7465\n"
     ]
    },
    {
     "name": "stderr",
     "output_type": "stream",
     "text": [
      "100%|██████████| 125/125 [00:02<00:00, 52.48it/s]\n"
     ]
    },
    {
     "name": "stdout",
     "output_type": "stream",
     "text": [
      "Epoch: 10/10  Training loss: 0.5592  Validation loss: 0.5623  Validation accuracy: 0.7455\n",
      "Accuracy of Apparel: 98.08%\n",
      "Accuracy of Accessories: 99.10%\n",
      "Training model...\n"
     ]
    },
    {
     "name": "stderr",
     "output_type": "stream",
     "text": [
      "100%|██████████| 125/125 [00:02<00:00, 52.77it/s]\n"
     ]
    },
    {
     "name": "stdout",
     "output_type": "stream",
     "text": [
      "Epoch: 1/10  Training loss: 0.5926  Validation loss: 0.5889  Validation accuracy: 0.7450\n"
     ]
    },
    {
     "name": "stderr",
     "output_type": "stream",
     "text": [
      "100%|██████████| 125/125 [00:02<00:00, 53.76it/s]\n"
     ]
    },
    {
     "name": "stdout",
     "output_type": "stream",
     "text": [
      "Epoch: 2/10  Training loss: 0.5676  Validation loss: 0.5735  Validation accuracy: 0.7465\n"
     ]
    },
    {
     "name": "stderr",
     "output_type": "stream",
     "text": [
      "100%|██████████| 125/125 [00:02<00:00, 52.92it/s]\n"
     ]
    },
    {
     "name": "stdout",
     "output_type": "stream",
     "text": [
      "Epoch: 3/10  Training loss: 0.5664  Validation loss: 0.5648  Validation accuracy: 0.7465\n"
     ]
    },
    {
     "name": "stderr",
     "output_type": "stream",
     "text": [
      "100%|██████████| 125/125 [00:02<00:00, 53.61it/s]\n"
     ]
    },
    {
     "name": "stdout",
     "output_type": "stream",
     "text": [
      "Epoch: 4/10  Training loss: 0.5641  Validation loss: 0.5622  Validation accuracy: 0.7465\n"
     ]
    },
    {
     "name": "stderr",
     "output_type": "stream",
     "text": [
      "100%|██████████| 125/125 [00:02<00:00, 54.20it/s]\n"
     ]
    },
    {
     "name": "stdout",
     "output_type": "stream",
     "text": [
      "Epoch: 5/10  Training loss: 0.5653  Validation loss: 0.5690  Validation accuracy: 0.7470\n"
     ]
    },
    {
     "name": "stderr",
     "output_type": "stream",
     "text": [
      "100%|██████████| 125/125 [00:02<00:00, 53.62it/s]\n"
     ]
    },
    {
     "name": "stdout",
     "output_type": "stream",
     "text": [
      "Epoch: 6/10  Training loss: 0.5658  Validation loss: 0.5703  Validation accuracy: 0.7480\n"
     ]
    },
    {
     "name": "stderr",
     "output_type": "stream",
     "text": [
      "100%|██████████| 125/125 [00:02<00:00, 53.03it/s]\n"
     ]
    },
    {
     "name": "stdout",
     "output_type": "stream",
     "text": [
      "Epoch: 7/10  Training loss: 0.5635  Validation loss: 0.5688  Validation accuracy: 0.7460\n"
     ]
    },
    {
     "name": "stderr",
     "output_type": "stream",
     "text": [
      "100%|██████████| 125/125 [00:02<00:00, 54.21it/s]\n"
     ]
    },
    {
     "name": "stdout",
     "output_type": "stream",
     "text": [
      "Epoch: 8/10  Training loss: 0.5636  Validation loss: 0.5676  Validation accuracy: 0.7455\n"
     ]
    },
    {
     "name": "stderr",
     "output_type": "stream",
     "text": [
      "100%|██████████| 125/125 [00:02<00:00, 55.41it/s]\n"
     ]
    },
    {
     "name": "stdout",
     "output_type": "stream",
     "text": [
      "Epoch: 9/10  Training loss: 0.5596  Validation loss: 0.5722  Validation accuracy: 0.7460\n"
     ]
    },
    {
     "name": "stderr",
     "output_type": "stream",
     "text": [
      "100%|██████████| 125/125 [00:02<00:00, 54.11it/s]\n"
     ]
    },
    {
     "name": "stdout",
     "output_type": "stream",
     "text": [
      "Epoch: 10/10  Training loss: 0.5609  Validation loss: 0.5723  Validation accuracy: 0.7370\n",
      "Accuracy of Apparel: 99.43%\n",
      "Accuracy of Accessories: 90.88%\n",
      "Training model...\n"
     ]
    },
    {
     "name": "stderr",
     "output_type": "stream",
     "text": [
      "100%|██████████| 125/125 [00:02<00:00, 55.35it/s]\n"
     ]
    },
    {
     "name": "stdout",
     "output_type": "stream",
     "text": [
      "Epoch: 1/10  Training loss: 0.5829  Validation loss: 0.5685  Validation accuracy: 0.7450\n"
     ]
    },
    {
     "name": "stderr",
     "output_type": "stream",
     "text": [
      "100%|██████████| 125/125 [00:02<00:00, 54.32it/s]\n"
     ]
    },
    {
     "name": "stdout",
     "output_type": "stream",
     "text": [
      "Epoch: 2/10  Training loss: 0.5704  Validation loss: 0.5641  Validation accuracy: 0.7445\n"
     ]
    },
    {
     "name": "stderr",
     "output_type": "stream",
     "text": [
      "100%|██████████| 125/125 [00:02<00:00, 54.22it/s]\n"
     ]
    },
    {
     "name": "stdout",
     "output_type": "stream",
     "text": [
      "Epoch: 3/10  Training loss: 0.5681  Validation loss: 0.5762  Validation accuracy: 0.7460\n"
     ]
    },
    {
     "name": "stderr",
     "output_type": "stream",
     "text": [
      "100%|██████████| 125/125 [00:02<00:00, 53.98it/s]\n"
     ]
    },
    {
     "name": "stdout",
     "output_type": "stream",
     "text": [
      "Epoch: 4/10  Training loss: 0.5660  Validation loss: 0.5641  Validation accuracy: 0.7480\n"
     ]
    },
    {
     "name": "stderr",
     "output_type": "stream",
     "text": [
      "100%|██████████| 125/125 [00:02<00:00, 55.38it/s]\n"
     ]
    },
    {
     "name": "stdout",
     "output_type": "stream",
     "text": [
      "Epoch: 5/10  Training loss: 0.5657  Validation loss: 0.5717  Validation accuracy: 0.7480\n"
     ]
    },
    {
     "name": "stderr",
     "output_type": "stream",
     "text": [
      "100%|██████████| 125/125 [00:02<00:00, 54.02it/s]\n"
     ]
    },
    {
     "name": "stdout",
     "output_type": "stream",
     "text": [
      "Epoch: 6/10  Training loss: 0.5615  Validation loss: 0.5667  Validation accuracy: 0.7470\n"
     ]
    },
    {
     "name": "stderr",
     "output_type": "stream",
     "text": [
      "100%|██████████| 125/125 [00:02<00:00, 56.14it/s]\n"
     ]
    },
    {
     "name": "stdout",
     "output_type": "stream",
     "text": [
      "Epoch: 7/10  Training loss: 0.5605  Validation loss: 0.5701  Validation accuracy: 0.7425\n"
     ]
    },
    {
     "name": "stderr",
     "output_type": "stream",
     "text": [
      "100%|██████████| 125/125 [00:02<00:00, 53.85it/s]\n"
     ]
    },
    {
     "name": "stdout",
     "output_type": "stream",
     "text": [
      "Epoch: 8/10  Training loss: 0.5570  Validation loss: 0.5615  Validation accuracy: 0.7455\n"
     ]
    },
    {
     "name": "stderr",
     "output_type": "stream",
     "text": [
      "100%|██████████| 125/125 [00:02<00:00, 54.81it/s]\n"
     ]
    },
    {
     "name": "stdout",
     "output_type": "stream",
     "text": [
      "Epoch: 9/10  Training loss: 0.5586  Validation loss: 0.5636  Validation accuracy: 0.7440\n"
     ]
    },
    {
     "name": "stderr",
     "output_type": "stream",
     "text": [
      "100%|██████████| 125/125 [00:02<00:00, 49.52it/s]\n"
     ]
    },
    {
     "name": "stdout",
     "output_type": "stream",
     "text": [
      "Epoch: 10/10  Training loss: 0.5571  Validation loss: 0.5735  Validation accuracy: 0.7400\n",
      "Accuracy of Apparel: 97.03%\n",
      "Accuracy of Accessories: 97.40%\n",
      "Training model...\n"
     ]
    },
    {
     "name": "stderr",
     "output_type": "stream",
     "text": [
      "100%|██████████| 125/125 [00:02<00:00, 47.41it/s]\n"
     ]
    },
    {
     "name": "stdout",
     "output_type": "stream",
     "text": [
      "Epoch: 1/10  Training loss: 0.5871  Validation loss: 0.5845  Validation accuracy: 0.7445\n"
     ]
    },
    {
     "name": "stderr",
     "output_type": "stream",
     "text": [
      "100%|██████████| 125/125 [00:02<00:00, 51.96it/s]\n"
     ]
    },
    {
     "name": "stdout",
     "output_type": "stream",
     "text": [
      "Epoch: 2/10  Training loss: 0.5681  Validation loss: 0.5774  Validation accuracy: 0.7435\n"
     ]
    },
    {
     "name": "stderr",
     "output_type": "stream",
     "text": [
      "100%|██████████| 125/125 [00:02<00:00, 52.33it/s]\n"
     ]
    },
    {
     "name": "stdout",
     "output_type": "stream",
     "text": [
      "Epoch: 3/10  Training loss: 0.5665  Validation loss: 0.5781  Validation accuracy: 0.7455\n"
     ]
    },
    {
     "name": "stderr",
     "output_type": "stream",
     "text": [
      "100%|██████████| 125/125 [00:02<00:00, 56.13it/s]\n"
     ]
    },
    {
     "name": "stdout",
     "output_type": "stream",
     "text": [
      "Epoch: 4/10  Training loss: 0.5638  Validation loss: 0.5698  Validation accuracy: 0.7475\n"
     ]
    },
    {
     "name": "stderr",
     "output_type": "stream",
     "text": [
      "100%|██████████| 125/125 [00:02<00:00, 46.43it/s]\n"
     ]
    },
    {
     "name": "stdout",
     "output_type": "stream",
     "text": [
      "Epoch: 5/10  Training loss: 0.5629  Validation loss: 0.5735  Validation accuracy: 0.7450\n"
     ]
    },
    {
     "name": "stderr",
     "output_type": "stream",
     "text": [
      "100%|██████████| 125/125 [00:02<00:00, 51.71it/s]\n"
     ]
    },
    {
     "name": "stdout",
     "output_type": "stream",
     "text": [
      "Epoch: 6/10  Training loss: 0.5621  Validation loss: 0.5741  Validation accuracy: 0.7460\n"
     ]
    },
    {
     "name": "stderr",
     "output_type": "stream",
     "text": [
      "100%|██████████| 125/125 [00:02<00:00, 59.49it/s]\n"
     ]
    },
    {
     "name": "stdout",
     "output_type": "stream",
     "text": [
      "Epoch: 7/10  Training loss: 0.5591  Validation loss: 0.5686  Validation accuracy: 0.7440\n"
     ]
    },
    {
     "name": "stderr",
     "output_type": "stream",
     "text": [
      "100%|██████████| 125/125 [00:02<00:00, 60.71it/s]\n"
     ]
    },
    {
     "name": "stdout",
     "output_type": "stream",
     "text": [
      "Epoch: 8/10  Training loss: 0.5578  Validation loss: 0.5796  Validation accuracy: 0.7475\n"
     ]
    },
    {
     "name": "stderr",
     "output_type": "stream",
     "text": [
      "100%|██████████| 125/125 [00:02<00:00, 60.51it/s]\n"
     ]
    },
    {
     "name": "stdout",
     "output_type": "stream",
     "text": [
      "Epoch: 9/10  Training loss: 0.5563  Validation loss: 0.5813  Validation accuracy: 0.7450\n"
     ]
    },
    {
     "name": "stderr",
     "output_type": "stream",
     "text": [
      "100%|██████████| 125/125 [00:02<00:00, 56.15it/s]\n"
     ]
    },
    {
     "name": "stdout",
     "output_type": "stream",
     "text": [
      "Epoch: 10/10  Training loss: 0.5567  Validation loss: 0.5773  Validation accuracy: 0.7430\n",
      "Accuracy of Apparel: 99.02%\n",
      "Accuracy of Accessories: 97.00%\n",
      "Training model...\n"
     ]
    },
    {
     "name": "stderr",
     "output_type": "stream",
     "text": [
      "100%|██████████| 125/125 [00:02<00:00, 49.39it/s]\n"
     ]
    },
    {
     "name": "stdout",
     "output_type": "stream",
     "text": [
      "Epoch: 1/10  Training loss: 0.5809  Validation loss: 0.5942  Validation accuracy: 0.7485\n"
     ]
    },
    {
     "name": "stderr",
     "output_type": "stream",
     "text": [
      "100%|██████████| 125/125 [00:02<00:00, 52.17it/s]\n"
     ]
    },
    {
     "name": "stdout",
     "output_type": "stream",
     "text": [
      "Epoch: 2/10  Training loss: 0.5746  Validation loss: 0.5755  Validation accuracy: 0.7445\n"
     ]
    },
    {
     "name": "stderr",
     "output_type": "stream",
     "text": [
      "100%|██████████| 125/125 [00:02<00:00, 52.04it/s]\n"
     ]
    },
    {
     "name": "stdout",
     "output_type": "stream",
     "text": [
      "Epoch: 3/10  Training loss: 0.5705  Validation loss: 0.5665  Validation accuracy: 0.7490\n"
     ]
    },
    {
     "name": "stderr",
     "output_type": "stream",
     "text": [
      "100%|██████████| 125/125 [00:02<00:00, 56.72it/s]\n"
     ]
    },
    {
     "name": "stdout",
     "output_type": "stream",
     "text": [
      "Epoch: 4/10  Training loss: 0.5647  Validation loss: 0.5685  Validation accuracy: 0.7480\n"
     ]
    },
    {
     "name": "stderr",
     "output_type": "stream",
     "text": [
      "100%|██████████| 125/125 [00:02<00:00, 56.03it/s]\n"
     ]
    },
    {
     "name": "stdout",
     "output_type": "stream",
     "text": [
      "Epoch: 5/10  Training loss: 0.5618  Validation loss: 0.5703  Validation accuracy: 0.7435\n"
     ]
    },
    {
     "name": "stderr",
     "output_type": "stream",
     "text": [
      "100%|██████████| 125/125 [00:02<00:00, 56.66it/s]\n"
     ]
    },
    {
     "name": "stdout",
     "output_type": "stream",
     "text": [
      "Epoch: 6/10  Training loss: 0.5610  Validation loss: 0.5737  Validation accuracy: 0.7390\n"
     ]
    },
    {
     "name": "stderr",
     "output_type": "stream",
     "text": [
      "100%|██████████| 125/125 [00:02<00:00, 55.37it/s]\n"
     ]
    },
    {
     "name": "stdout",
     "output_type": "stream",
     "text": [
      "Epoch: 7/10  Training loss: 0.5639  Validation loss: 0.5735  Validation accuracy: 0.7425\n"
     ]
    },
    {
     "name": "stderr",
     "output_type": "stream",
     "text": [
      "100%|██████████| 125/125 [00:02<00:00, 56.40it/s]\n"
     ]
    },
    {
     "name": "stdout",
     "output_type": "stream",
     "text": [
      "Epoch: 8/10  Training loss: 0.5604  Validation loss: 0.5742  Validation accuracy: 0.7440\n"
     ]
    },
    {
     "name": "stderr",
     "output_type": "stream",
     "text": [
      "100%|██████████| 125/125 [00:02<00:00, 56.06it/s]\n"
     ]
    },
    {
     "name": "stdout",
     "output_type": "stream",
     "text": [
      "Epoch: 9/10  Training loss: 0.5593  Validation loss: 0.5698  Validation accuracy: 0.7415\n"
     ]
    },
    {
     "name": "stderr",
     "output_type": "stream",
     "text": [
      "100%|██████████| 125/125 [00:02<00:00, 56.26it/s]\n"
     ]
    },
    {
     "name": "stdout",
     "output_type": "stream",
     "text": [
      "Epoch: 10/10  Training loss: 0.5566  Validation loss: 0.5696  Validation accuracy: 0.7390\n",
      "Accuracy of Apparel: 97.75%\n",
      "Accuracy of Accessories: 97.95%\n"
     ]
    }
   ],
   "source": [
    "avg_train_loss, avg_valid_loss, avg_valid_acc, models_class_acc = train_split_models(poisoned_dataset, testloader, classes, device, epochs=10, n_splits=6, class_labels=classes)"
   ]
  },
  {
   "cell_type": "code",
   "execution_count": 21,
   "metadata": {},
   "outputs": [
    {
     "name": "stdout",
     "output_type": "stream",
     "text": [
      "Train loss: 0.558297, Validation loss: 0.573840, Validation acc: 0.74\n"
     ]
    }
   ],
   "source": [
    "print(f'Train loss: {avg_train_loss:.6f}, Validation loss: {avg_valid_loss:.6f}, Validation acc: {avg_valid_acc:.2f}')"
   ]
  },
  {
   "cell_type": "code",
   "execution_count": 22,
   "metadata": {},
   "outputs": [
    {
     "data": {
      "text/plain": [
       "{0: ['Accuracy of Apparel: 99.55%', 'Accuracy of Accessories: 94.55%'],\n",
       " 1: ['Accuracy of Apparel: 98.08%', 'Accuracy of Accessories: 99.10%'],\n",
       " 2: ['Accuracy of Apparel: 99.43%', 'Accuracy of Accessories: 90.88%'],\n",
       " 3: ['Accuracy of Apparel: 97.03%', 'Accuracy of Accessories: 97.40%'],\n",
       " 4: ['Accuracy of Apparel: 99.02%', 'Accuracy of Accessories: 97.00%'],\n",
       " 5: ['Accuracy of Apparel: 97.75%', 'Accuracy of Accessories: 97.95%']}"
      ]
     },
     "execution_count": 22,
     "metadata": {},
     "output_type": "execute_result"
    }
   ],
   "source": [
    "models_class_acc"
   ]
  },
  {
   "cell_type": "code",
   "execution_count": 27,
   "metadata": {},
   "outputs": [
    {
     "name": "stdout",
     "output_type": "stream",
     "text": [
      "Avg Apparel: 98.48\n",
      "Avg Accessories: 96.15\n",
      "Avg: 97.31\n"
     ]
    }
   ],
   "source": [
    "avg_acc_classes = {k:0 for k in classes.keys()}\n",
    "avg_acc = 0\n",
    "for key, value in models_class_acc.items():\n",
    "\tfor k, v in avg_acc_classes.items():\n",
    "\t\tavg_acc_classes[k] += float(value[k].split(' ')[-1][:-1])\n",
    "\n",
    "avg_acc_classes = {k:v/len(models_class_acc) for k, v in avg_acc_classes.items()}\n",
    "avg_acc = sum(avg_acc_classes.values())/len(avg_acc_classes)\n",
    "\n",
    "for k,v in avg_acc_classes.items():\n",
    "\tprint(f'Avg {classes[k]}: {v:.2f}')\n",
    "print(f'Avg: {avg_acc:.2f}')\n"
   ]
  }
 ],
 "metadata": {
  "kernelspec": {
   "display_name": "base",
   "language": "python",
   "name": "python3"
  },
  "language_info": {
   "codemirror_mode": {
    "name": "ipython",
    "version": 3
   },
   "file_extension": ".py",
   "mimetype": "text/x-python",
   "name": "python",
   "nbconvert_exporter": "python",
   "pygments_lexer": "ipython3",
   "version": "3.9.12"
  },
  "orig_nbformat": 4,
  "vscode": {
   "interpreter": {
    "hash": "6d330e668522ee4cfc4180e05972c99d72bdd51cd83538988d9fe35d2c8b76b5"
   }
  }
 },
 "nbformat": 4,
 "nbformat_minor": 2
}
