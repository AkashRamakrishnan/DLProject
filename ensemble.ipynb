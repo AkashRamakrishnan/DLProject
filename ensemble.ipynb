{
 "cells": [
  {
   "cell_type": "code",
   "execution_count": 1,
   "id": "f2341db3-1249-4ba8-8d9a-d20cad951017",
   "metadata": {},
   "outputs": [],
   "source": [
    "import numpy as np\n",
    "from tqdm import tqdm\n",
    "\n",
    "from torch.utils.data.sampler import SubsetRandomSampler\n",
    "\n",
    "%run models.ipynb"
   ]
  },
  {
   "cell_type": "code",
   "execution_count": 19,
   "id": "3099c7e6-a0b8-4002-a009-52f8bac9f10d",
   "metadata": {},
   "outputs": [
    {
     "name": "stdout",
     "output_type": "stream",
     "text": [
      "Split 0: Train sample len: 4800, Valid sample len: 1200\n",
      "Split 1: Train sample len: 4800, Valid sample len: 1200\n",
      "Split 2: Train sample len: 4800, Valid sample len: 1200\n",
      "Split 3: Train sample len: 4800, Valid sample len: 1200\n",
      "Split 4: Train sample len: 4800, Valid sample len: 1200\n",
      "Split 5: Train sample len: 4800, Valid sample len: 1200\n",
      "Split 6: Train sample len: 4800, Valid sample len: 1200\n",
      "Split 7: Train sample len: 4800, Valid sample len: 1200\n",
      "Split 8: Train sample len: 4800, Valid sample len: 1200\n",
      "Split 9: Train sample len: 4800, Valid sample len: 1200\n"
     ]
    }
   ],
   "source": [
    "# Preparing the splits\n",
    "def split_dataset(train_set, n_splits):\n",
    "    indices = list(range(len(train_set)))\n",
    "    np.random.shuffle(indices)\n",
    "    split_size = int(np.floor(1/n_splits * len(train_set)))\n",
    "    datasets = []\n",
    "    dataloaders = []\n",
    "    \n",
    "    for i in range(n_splits):\n",
    "        start = i * split_size\n",
    "        end = start + split_size\n",
    "        curr_indices = indices[start:end]\n",
    "        \n",
    "        # Get valid indicies and train indicies from the curr\n",
    "        np.random.shuffle(curr_indices)\n",
    "        # to get 20% of the train set\n",
    "        split = int(np.floor(0.2 * len(curr_indices)))\n",
    "        \n",
    "        valid_sample = SubsetRandomSampler(curr_indices[:split])\n",
    "        train_sample = SubsetRandomSampler(curr_indices[split:])\n",
    "        datasets.append((train_sample, valid_sample))\n",
    "\n",
    "        train_loader = torch.utils.data.DataLoader(train_set, sampler=train_sample, batch_size=64, generator=torch.Generator(device))\n",
    "        valid_loader = torch.utils.data.DataLoader(train_set, sampler=valid_sample, batch_size=64, generator=torch.Generator(device))\n",
    "        dataloaders.append((train_loader, valid_loader))\n",
    "        \n",
    "    return datasets, dataloaders"
   ]
  },
  {
   "cell_type": "code",
   "execution_count": null,
   "id": "b28e96f8-9f30-4f1c-a94f-7e5c6f56c6cd",
   "metadata": {},
   "outputs": [],
   "source": [
    "def train_split_models(train_set, epochs=10, n_splits=10):\n",
    "    models = [FashionCNN().to(device) for i in range(n_splits)]\n",
    "    datasets, dataloaders = split_dataset(train_set, n_splits)\n",
    "    \n",
    "    model_avg_train_loss = []\n",
    "    model_avg_valid_loss = []\n",
    "    model_avg_valid_acc = []\n",
    "\n",
    "    # initialize the ensemble model\n",
    "    for idx, model in enumerate(models):\n",
    "        optimizer = torch.optim.Adam(model.parameters(), lr = 0.005)\n",
    "        criterion = nn.CrossEntropyLoss()\n",
    "        train_loss, valid_loss, valid_acc = train_model(\n",
    "            model, dataloaders[0][0], dataloaders[0][1],\n",
    "            optimizer, criterion, epochs\n",
    "        )\n",
    "        model_avg_train_loss.append(train_loss)\n",
    "        model_avg_valid_loss.append(valid_loss)\n",
    "        model_avg_valid_acc.append(valid_acc)\n",
    "    \n",
    "    avg_train_loss = sum(model_avg_train_loss)/n_splits\n",
    "    avg_valid_loss = sum(model_avg_valid_loss)/n_splits\n",
    "    avg_valid_acc = sum(model_avg_valid_acc)/n_splits\n",
    "    return avg_train_loss, avg_valid_loss, avg_valid_acc"
   ]
  }
 ],
 "metadata": {
  "kernelspec": {
   "display_name": "dl",
   "language": "python",
   "name": "dl"
  },
  "language_info": {
   "codemirror_mode": {
    "name": "ipython",
    "version": 3
   },
   "file_extension": ".py",
   "mimetype": "text/x-python",
   "name": "python",
   "nbconvert_exporter": "python",
   "pygments_lexer": "ipython3",
   "version": "3.9.15"
  }
 },
 "nbformat": 4,
 "nbformat_minor": 5
}
